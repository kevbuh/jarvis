{
 "cells": [
  {
   "cell_type": "markdown",
   "metadata": {},
   "source": [
    "# Toolformer: Language Models Can Teach Themselves to Use Tools\n",
    "- https://arxiv.org/pdf/2302.04761.pdf\n",
    "\n",
    "Model trained to decide which APIs to call\n",
    "- when to call them\n",
    "- what arguments to pass\n",
    "- how to best incorporate the results into future token prediction\n",
    "\n",
    "Self-supervised\n",
    "- requiring nothing more than a handful of\n",
    "- demonstrations for each API\n",
    "\n",
    "Architecture\n",
    "- based on a pretrained GPT-J model with 6.7 Billion parameters\n",
    "- outperforming a GPT-3 model\n",
    "- https://github.com/kingoflolz/mesh-transformer-jax\n",
    "    \n",
    "    "
   ]
  },
  {
   "cell_type": "markdown",
   "metadata": {},
   "source": [
    "## Approach\n",
    "\n",
    "Each api call as a tuple\n",
    "- ```c = (a_c, i_c)```\n",
    "- a_c -> name of the API\n",
    "- i_C -> corresponding input\n",
    "- corresponding result ```r```\n",
    "\n",
    "Special tokens\n",
    "- ```<API>``` and ```</API>```\n",
    "- ```-->```\n",
    "\n",
    "Dataset\n",
    "- Given a dataset of plain texts\n",
    "- Converted into a dataset augmented with API calls\n",
    "- Done in three steps\n",
    "    - 1. Exploit the in-context learning ability of the model ```M``` to sample a large numer of potential API calls\n",
    "    - 2. Execture these API calls and check whether the obtained repsonses are helpful for predicting future tokens \n",
    "        - Filtering criterion\n",
    "    - 3. Merge API calls for different tools, resulting in the augmented dataset ```C*```\n",
    "    - 4. Finetune ```M``` itself on this dataset\n",
    "    \n",
    "Sampling API Calls\n",
    "- write a prompt ```P(x)``` for each API\n",
    "    - encourage LM to annotate an example ```x=[x_1,...,x_n]``` with API calls\n",
    "  \n",
    "Executing API Calls\n",
    "- How the execution is done depends entirely on the API itself\n",
    "- Can involve\n",
    "    - Calling another neural network\n",
    "    - Executing a python script\n",
    "    - Using retrieval system to perform search or a large corpus\n",
    "- There is a response for each API call: ```c_i```\n",
    "    - needs to be a single text sequence ```r_i```\n",
    "    \n",
    "Filtering API Calls\n",
    "- Weighted cross entropy loss for ```M``` over the token x_i, ..., x_n if the model is prefixed with ```z```\n",
    "\n",
    "Model Finetuning\n",
    "- Construct new sequence ```x*=x_{1:i-1},e(c_i,r_c),x_{i:n}```\n",
    "- Doing this for all ```x``` in ```C``` results in the new dataset ```C*``` augmented with API calls\n",
    "- use this new dataset to finetune M\n",
    "\n",
    "Inference\n",
    "- Regular decoding until M produces ```-->```\n",
    "    - Indicates that is expects the response for an API call.\n",
    "- Interrupt the decoding process\n",
    "    - Call the appropriate API to get a response\n",
    "    - Continue the decoding process after inserting both the response and the ```</API>``` token"
   ]
  },
  {
   "cell_type": "markdown",
   "metadata": {},
   "source": [
    "# Tools\n",
    "\n",
    "Contraints:\n",
    "- Both their inputs and outputs have to be represented as text sequences\n",
    "- We can obtain a few demonstrations of their intended use"
   ]
  },
  {
   "cell_type": "code",
   "execution_count": null,
   "metadata": {},
   "outputs": [],
   "source": []
  }
 ],
 "metadata": {
  "kernelspec": {
   "display_name": "Python 3 (ipykernel)",
   "language": "python",
   "name": "python3"
  },
  "language_info": {
   "codemirror_mode": {
    "name": "ipython",
    "version": 3
   },
   "file_extension": ".py",
   "mimetype": "text/x-python",
   "name": "python",
   "nbconvert_exporter": "python",
   "pygments_lexer": "ipython3",
   "version": "3.9.13"
  },
  "vscode": {
   "interpreter": {
    "hash": "31f2aee4e71d21fbe5cf8b01ff0e069b9275f58929596ceb00d14d90e3e16cd6"
   }
  }
 },
 "nbformat": 4,
 "nbformat_minor": 2
}
