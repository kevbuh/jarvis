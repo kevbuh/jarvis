{
 "cells": [
  {
   "cell_type": "markdown",
   "metadata": {},
   "source": [
    "# Toolformer: Language Models Can Teach Themselves to Use Tools\n",
    "- https://arxiv.org/pdf/2302.04761.pdf\n",
    "\n",
    "Model trained to decide which APIs to call\n",
    "- when to call them\n",
    "- what arguments to pass\n",
    "- how to best incorporate the results into future token prediction\n",
    "\n",
    "Self-supervised\n",
    "- requiring nothing more than a handful of\n",
    "- demonstrations for each API\n",
    "\n",
    "Architecture\n",
    "- based on a pretrained GPT-J model with 6.7 Billion parameters\n",
    "- outperforming a GPT-3 model\n",
    "- https://github.com/kingoflolz/mesh-transformer-jax\n",
    "    \n",
    "    "
   ]
  },
  {
   "cell_type": "code",
   "execution_count": null,
   "metadata": {},
   "outputs": [],
   "source": []
  }
 ],
 "metadata": {
  "kernelspec": {
   "display_name": "Python 3 (ipykernel)",
   "language": "python",
   "name": "python3"
  },
  "language_info": {
   "codemirror_mode": {
    "name": "ipython",
    "version": 3
   },
   "file_extension": ".py",
   "mimetype": "text/x-python",
   "name": "python",
   "nbconvert_exporter": "python",
   "pygments_lexer": "ipython3",
   "version": "3.9.13"
  },
  "vscode": {
   "interpreter": {
    "hash": "31f2aee4e71d21fbe5cf8b01ff0e069b9275f58929596ceb00d14d90e3e16cd6"
   }
  }
 },
 "nbformat": 4,
 "nbformat_minor": 2
}
